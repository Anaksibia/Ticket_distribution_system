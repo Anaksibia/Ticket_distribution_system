{
 "cells": [
  {
   "cell_type": "code",
   "execution_count": 10,
   "metadata": {},
   "outputs": [],
   "source": [
    "import pandas as pd\n",
    "import matplotlib.pyplot as plt"
   ]
  },
  {
   "cell_type": "code",
   "execution_count": 23,
   "metadata": {},
   "outputs": [],
   "source": [
    "df = pd.read_csv('sources/stoloto_data.csv',\n",
    "                       sep=',', encoding='latin1',\n",
    "                       parse_dates=['date'], dayfirst=False, index_col=0)"
   ]
  },
  {
   "cell_type": "code",
   "execution_count": 24,
   "metadata": {},
   "outputs": [
    {
     "data": {
      "text/html": [
       "<div>\n",
       "<style scoped>\n",
       "    .dataframe tbody tr th:only-of-type {\n",
       "        vertical-align: middle;\n",
       "    }\n",
       "\n",
       "    .dataframe tbody tr th {\n",
       "        vertical-align: top;\n",
       "    }\n",
       "\n",
       "    .dataframe thead th {\n",
       "        text-align: right;\n",
       "    }\n",
       "</style>\n",
       "<table border=\"1\" class=\"dataframe\">\n",
       "  <thead>\n",
       "    <tr style=\"text-align: right;\">\n",
       "      <th></th>\n",
       "      <th>ops_num</th>\n",
       "      <th>game_code</th>\n",
       "      <th>circulation</th>\n",
       "      <th>ufps_num</th>\n",
       "      <th>postamt_num</th>\n",
       "      <th>sales</th>\n",
       "      <th>date</th>\n",
       "    </tr>\n",
       "  </thead>\n",
       "  <tbody>\n",
       "    <tr>\n",
       "      <th>0</th>\n",
       "      <td>117463</td>\n",
       "      <td>7105</td>\n",
       "      <td>216</td>\n",
       "      <td>2</td>\n",
       "      <td>165</td>\n",
       "      <td>57</td>\n",
       "      <td>2017-01-15</td>\n",
       "    </tr>\n",
       "    <tr>\n",
       "      <th>2</th>\n",
       "      <td>117218</td>\n",
       "      <td>7105</td>\n",
       "      <td>217</td>\n",
       "      <td>2</td>\n",
       "      <td>165</td>\n",
       "      <td>17</td>\n",
       "      <td>2017-01-22</td>\n",
       "    </tr>\n",
       "    <tr>\n",
       "      <th>4</th>\n",
       "      <td>109518</td>\n",
       "      <td>7105</td>\n",
       "      <td>218</td>\n",
       "      <td>2</td>\n",
       "      <td>484</td>\n",
       "      <td>16</td>\n",
       "      <td>2017-01-29</td>\n",
       "    </tr>\n",
       "    <tr>\n",
       "      <th>8</th>\n",
       "      <td>119311</td>\n",
       "      <td>7105</td>\n",
       "      <td>209</td>\n",
       "      <td>2</td>\n",
       "      <td>306</td>\n",
       "      <td>22</td>\n",
       "      <td>2016-11-27</td>\n",
       "    </tr>\n",
       "    <tr>\n",
       "      <th>13</th>\n",
       "      <td>105043</td>\n",
       "      <td>7105</td>\n",
       "      <td>212</td>\n",
       "      <td>2</td>\n",
       "      <td>224</td>\n",
       "      <td>25</td>\n",
       "      <td>2016-12-18</td>\n",
       "    </tr>\n",
       "    <tr>\n",
       "      <th>14</th>\n",
       "      <td>119192</td>\n",
       "      <td>7105</td>\n",
       "      <td>213</td>\n",
       "      <td>2</td>\n",
       "      <td>306</td>\n",
       "      <td>22</td>\n",
       "      <td>2016-12-25</td>\n",
       "    </tr>\n",
       "    <tr>\n",
       "      <th>17</th>\n",
       "      <td>119619</td>\n",
       "      <td>7105</td>\n",
       "      <td>261</td>\n",
       "      <td>2</td>\n",
       "      <td>306</td>\n",
       "      <td>68</td>\n",
       "      <td>2017-11-26</td>\n",
       "    </tr>\n",
       "    <tr>\n",
       "      <th>20</th>\n",
       "      <td>119619</td>\n",
       "      <td>7105</td>\n",
       "      <td>262</td>\n",
       "      <td>2</td>\n",
       "      <td>306</td>\n",
       "      <td>51</td>\n",
       "      <td>2017-12-03</td>\n",
       "    </tr>\n",
       "    <tr>\n",
       "      <th>31</th>\n",
       "      <td>111622</td>\n",
       "      <td>7105</td>\n",
       "      <td>294</td>\n",
       "      <td>2</td>\n",
       "      <td>224</td>\n",
       "      <td>16</td>\n",
       "      <td>2018-07-15</td>\n",
       "    </tr>\n",
       "    <tr>\n",
       "      <th>50</th>\n",
       "      <td>111398</td>\n",
       "      <td>7105</td>\n",
       "      <td>244</td>\n",
       "      <td>2</td>\n",
       "      <td>224</td>\n",
       "      <td>10</td>\n",
       "      <td>2017-07-30</td>\n",
       "    </tr>\n",
       "  </tbody>\n",
       "</table>\n",
       "</div>"
      ],
      "text/plain": [
       "    ops_num  game_code  circulation  ufps_num  postamt_num  sales       date\n",
       "0    117463       7105          216         2          165     57 2017-01-15\n",
       "2    117218       7105          217         2          165     17 2017-01-22\n",
       "4    109518       7105          218         2          484     16 2017-01-29\n",
       "8    119311       7105          209         2          306     22 2016-11-27\n",
       "13   105043       7105          212         2          224     25 2016-12-18\n",
       "14   119192       7105          213         2          306     22 2016-12-25\n",
       "17   119619       7105          261         2          306     68 2017-11-26\n",
       "20   119619       7105          262         2          306     51 2017-12-03\n",
       "31   111622       7105          294         2          224     16 2018-07-15\n",
       "50   111398       7105          244         2          224     10 2017-07-30"
      ]
     },
     "execution_count": 24,
     "metadata": {},
     "output_type": "execute_result"
    }
   ],
   "source": [
    "df.head(10)"
   ]
  },
  {
   "cell_type": "code",
   "execution_count": 25,
   "metadata": {},
   "outputs": [
    {
     "data": {
      "text/html": [
       "<div>\n",
       "<style scoped>\n",
       "    .dataframe tbody tr th:only-of-type {\n",
       "        vertical-align: middle;\n",
       "    }\n",
       "\n",
       "    .dataframe tbody tr th {\n",
       "        vertical-align: top;\n",
       "    }\n",
       "\n",
       "    .dataframe thead th {\n",
       "        text-align: right;\n",
       "    }\n",
       "</style>\n",
       "<table border=\"1\" class=\"dataframe\">\n",
       "  <thead>\n",
       "    <tr style=\"text-align: right;\">\n",
       "      <th></th>\n",
       "      <th>ops_num</th>\n",
       "      <th>game_code</th>\n",
       "      <th>circulation</th>\n",
       "      <th>ufps_num</th>\n",
       "      <th>postamt_num</th>\n",
       "      <th>sales</th>\n",
       "    </tr>\n",
       "  </thead>\n",
       "  <tbody>\n",
       "    <tr>\n",
       "      <th>count</th>\n",
       "      <td>30021.000000</td>\n",
       "      <td>30021.000000</td>\n",
       "      <td>30021.000000</td>\n",
       "      <td>30021.0</td>\n",
       "      <td>30021.000000</td>\n",
       "      <td>30021.000000</td>\n",
       "    </tr>\n",
       "    <tr>\n",
       "      <th>mean</th>\n",
       "      <td>119014.466473</td>\n",
       "      <td>7110.333133</td>\n",
       "      <td>464.024050</td>\n",
       "      <td>2.0</td>\n",
       "      <td>328.856101</td>\n",
       "      <td>44.893808</td>\n",
       "    </tr>\n",
       "    <tr>\n",
       "      <th>std</th>\n",
       "      <td>7361.429245</td>\n",
       "      <td>17.107149</td>\n",
       "      <td>475.309325</td>\n",
       "      <td>0.0</td>\n",
       "      <td>203.664387</td>\n",
       "      <td>143.597791</td>\n",
       "    </tr>\n",
       "    <tr>\n",
       "      <th>min</th>\n",
       "      <td>103132.000000</td>\n",
       "      <td>7101.000000</td>\n",
       "      <td>1.000000</td>\n",
       "      <td>2.0</td>\n",
       "      <td>96.000000</td>\n",
       "      <td>3.000000</td>\n",
       "    </tr>\n",
       "    <tr>\n",
       "      <th>25%</th>\n",
       "      <td>115088.000000</td>\n",
       "      <td>7103.000000</td>\n",
       "      <td>121.000000</td>\n",
       "      <td>2.0</td>\n",
       "      <td>165.000000</td>\n",
       "      <td>16.000000</td>\n",
       "    </tr>\n",
       "    <tr>\n",
       "      <th>50%</th>\n",
       "      <td>119602.000000</td>\n",
       "      <td>7105.000000</td>\n",
       "      <td>239.000000</td>\n",
       "      <td>2.0</td>\n",
       "      <td>306.000000</td>\n",
       "      <td>24.000000</td>\n",
       "    </tr>\n",
       "    <tr>\n",
       "      <th>75%</th>\n",
       "      <td>125430.000000</td>\n",
       "      <td>7115.000000</td>\n",
       "      <td>1173.000000</td>\n",
       "      <td>2.0</td>\n",
       "      <td>484.000000</td>\n",
       "      <td>41.000000</td>\n",
       "    </tr>\n",
       "    <tr>\n",
       "      <th>max</th>\n",
       "      <td>129338.000000</td>\n",
       "      <td>7175.000000</td>\n",
       "      <td>1269.000000</td>\n",
       "      <td>2.0</td>\n",
       "      <td>664.000000</td>\n",
       "      <td>5771.000000</td>\n",
       "    </tr>\n",
       "  </tbody>\n",
       "</table>\n",
       "</div>"
      ],
      "text/plain": [
       "             ops_num     game_code   circulation  ufps_num   postamt_num  \\\n",
       "count   30021.000000  30021.000000  30021.000000   30021.0  30021.000000   \n",
       "mean   119014.466473   7110.333133    464.024050       2.0    328.856101   \n",
       "std      7361.429245     17.107149    475.309325       0.0    203.664387   \n",
       "min    103132.000000   7101.000000      1.000000       2.0     96.000000   \n",
       "25%    115088.000000   7103.000000    121.000000       2.0    165.000000   \n",
       "50%    119602.000000   7105.000000    239.000000       2.0    306.000000   \n",
       "75%    125430.000000   7115.000000   1173.000000       2.0    484.000000   \n",
       "max    129338.000000   7175.000000   1269.000000       2.0    664.000000   \n",
       "\n",
       "              sales  \n",
       "count  30021.000000  \n",
       "mean      44.893808  \n",
       "std      143.597791  \n",
       "min        3.000000  \n",
       "25%       16.000000  \n",
       "50%       24.000000  \n",
       "75%       41.000000  \n",
       "max     5771.000000  "
      ]
     },
     "execution_count": 25,
     "metadata": {},
     "output_type": "execute_result"
    }
   ],
   "source": [
    "df.describe()"
   ]
  },
  {
   "cell_type": "code",
   "execution_count": 26,
   "metadata": {},
   "outputs": [
    {
     "data": {
      "text/plain": [
       "2    30021\n",
       "Name: ufps_num, dtype: int64"
      ]
     },
     "execution_count": 26,
     "metadata": {},
     "output_type": "execute_result"
    }
   ],
   "source": [
    "# So we have 30021 values for all columns, no NaN values.\n",
    "# I don't see much physical meaning in statistics for categolical features such game_code, postamt_num, ufps_num\n",
    "# Hmm, std for 'ufps_num' is 0. Let's check is it a constant\n",
    "df['ufps_num'].value_counts() "
   ]
  },
  {
   "cell_type": "code",
   "execution_count": 32,
   "metadata": {},
   "outputs": [],
   "source": [
    "# Yes, it is. It's useless, let's delete it\n",
    "del df['ufps_num']"
   ]
  },
  {
   "cell_type": "code",
   "execution_count": 40,
   "metadata": {},
   "outputs": [
    {
     "data": {
      "text/plain": [
       "7103    8400\n",
       "7105    8035\n",
       "7115    6993\n",
       "7101    4791\n",
       "7175    1802\n",
       "Name: game_code, dtype: int64"
      ]
     },
     "execution_count": 40,
     "metadata": {},
     "output_type": "execute_result"
    }
   ],
   "source": [
    "df['game_code'].value_counts()\n",
    "# game_code have only 5 possible values, probably we should change this feature into 5 dummy variables"
   ]
  },
  {
   "cell_type": "code",
   "execution_count": 9,
   "metadata": {},
   "outputs": [
    {
     "data": {
      "text/plain": [
       "664    5909\n",
       "96     5759\n",
       "306    5234\n",
       "224    4663\n",
       "484    4247\n",
       "165    4209\n",
       "Name: postamt_num, dtype: int64"
      ]
     },
     "execution_count": 9,
     "metadata": {},
     "output_type": "execute_result"
    }
   ],
   "source": [
    "df['postamt_num'].value_counts()\n",
    "# Again, postamt_num consist of 6 groups about the same size and can be replaced with 6 dummy variables."
   ]
  },
  {
   "cell_type": "code",
   "execution_count": 33,
   "metadata": {},
   "outputs": [
    {
     "data": {
      "text/html": [
       "<div>\n",
       "<style scoped>\n",
       "    .dataframe tbody tr th:only-of-type {\n",
       "        vertical-align: middle;\n",
       "    }\n",
       "\n",
       "    .dataframe tbody tr th {\n",
       "        vertical-align: top;\n",
       "    }\n",
       "\n",
       "    .dataframe thead th {\n",
       "        text-align: right;\n",
       "    }\n",
       "</style>\n",
       "<table border=\"1\" class=\"dataframe\">\n",
       "  <thead>\n",
       "    <tr style=\"text-align: right;\">\n",
       "      <th></th>\n",
       "      <th>ops_num</th>\n",
       "      <th>game_code</th>\n",
       "      <th>circulation</th>\n",
       "      <th>postamt_num</th>\n",
       "      <th>sales</th>\n",
       "    </tr>\n",
       "  </thead>\n",
       "  <tbody>\n",
       "    <tr>\n",
       "      <th>ops_num</th>\n",
       "      <td>1.000000</td>\n",
       "      <td>-0.007007</td>\n",
       "      <td>0.004413</td>\n",
       "      <td>0.041359</td>\n",
       "      <td>0.004647</td>\n",
       "    </tr>\n",
       "    <tr>\n",
       "      <th>game_code</th>\n",
       "      <td>-0.007007</td>\n",
       "      <td>1.000000</td>\n",
       "      <td>-0.351192</td>\n",
       "      <td>0.003224</td>\n",
       "      <td>-0.074986</td>\n",
       "    </tr>\n",
       "    <tr>\n",
       "      <th>circulation</th>\n",
       "      <td>0.004413</td>\n",
       "      <td>-0.351192</td>\n",
       "      <td>1.000000</td>\n",
       "      <td>0.009910</td>\n",
       "      <td>0.219951</td>\n",
       "    </tr>\n",
       "    <tr>\n",
       "      <th>postamt_num</th>\n",
       "      <td>0.041359</td>\n",
       "      <td>0.003224</td>\n",
       "      <td>0.009910</td>\n",
       "      <td>1.000000</td>\n",
       "      <td>0.008260</td>\n",
       "    </tr>\n",
       "    <tr>\n",
       "      <th>sales</th>\n",
       "      <td>0.004647</td>\n",
       "      <td>-0.074986</td>\n",
       "      <td>0.219951</td>\n",
       "      <td>0.008260</td>\n",
       "      <td>1.000000</td>\n",
       "    </tr>\n",
       "  </tbody>\n",
       "</table>\n",
       "</div>"
      ],
      "text/plain": [
       "              ops_num  game_code  circulation  postamt_num     sales\n",
       "ops_num      1.000000  -0.007007     0.004413     0.041359  0.004647\n",
       "game_code   -0.007007   1.000000    -0.351192     0.003224 -0.074986\n",
       "circulation  0.004413  -0.351192     1.000000     0.009910  0.219951\n",
       "postamt_num  0.041359   0.003224     0.009910     1.000000  0.008260\n",
       "sales        0.004647  -0.074986     0.219951     0.008260  1.000000"
      ]
     },
     "execution_count": 33,
     "metadata": {},
     "output_type": "execute_result"
    }
   ],
   "source": [
    "df.corr()"
   ]
  },
  {
   "cell_type": "code",
   "execution_count": 35,
   "metadata": {},
   "outputs": [
    {
     "data": {
      "image/png": "[encoded data removed]",
      "text/plain": [
       "<Figure size 288x288 with 1 Axes>"
      ]
     },
     "metadata": {
      "needs_background": "light"
     },
     "output_type": "display_data"
    }
   ],
   "source": [
    "plt.matshow(df.corr())\n",
    "plt.show()\n",
    "#We have weak correlation between circulation and game_code (-0.35) but we still can work with it."
   ]
  },
  {
   "cell_type": "code",
   "execution_count": 29,
   "metadata": {},
   "outputs": [
    {
     "data": {
      "text/plain": [
       "391"
      ]
     },
     "execution_count": 29,
     "metadata": {},
     "output_type": "execute_result"
    }
   ],
   "source": [
    "df['circulation'].nunique()"
   ]
  },
  {
   "cell_type": "code",
   "execution_count": 30,
   "metadata": {},
   "outputs": [
    {
     "data": {
      "text/plain": [
       "93"
      ]
     },
     "execution_count": 30,
     "metadata": {},
     "output_type": "execute_result"
    }
   ],
   "source": [
    "df['ops_num'].nunique()"
   ]
  },
  {
   "cell_type": "code",
   "execution_count": 37,
   "metadata": {},
   "outputs": [],
   "source": []
  },
  {
   "cell_type": "code",
   "execution_count": null,
   "metadata": {},
   "outputs": [],
   "source": []
  },
  {
   "cell_type": "code",
   "execution_count": null,
   "metadata": {},
   "outputs": [],
   "source": []
  }
 ],
 "metadata": {
  "kernelspec": {
   "display_name": "Python 3",
   "language": "python",
   "name": "python3"
  },
  "language_info": {
   "codemirror_mode": {
    "name": "ipython",
    "version": 3
   },
   "file_extension": ".py",
   "mimetype": "text/x-python",
   "name": "python",
   "nbconvert_exporter": "python",
   "pygments_lexer": "ipython3",
   "version": "3.8.3"
  }
 },
 "nbformat": 4,
 "nbformat_minor": 4
}
